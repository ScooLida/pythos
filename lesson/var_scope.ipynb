{
 "cells": [
  {
   "cell_type": "code",
   "execution_count": 6,
   "id": "initial_id",
   "metadata": {
    "collapsed": true,
    "ExecuteTime": {
     "end_time": "2023-08-22T17:33:58.054944223Z",
     "start_time": "2023-08-22T17:33:54.541457855Z"
    }
   },
   "outputs": [
    {
     "name": "stdout",
     "output_type": "stream",
     "text": [
      "Нечётное\n"
     ]
    },
    {
     "ename": "NameError",
     "evalue": "name 'z' is not defined",
     "output_type": "error",
     "traceback": [
      "\u001B[0;31m---------------------------------------------------------------------------\u001B[0m",
      "\u001B[0;31mNameError\u001B[0m                                 Traceback (most recent call last)",
      "Cell \u001B[0;32mIn[6], line 10\u001B[0m\n\u001B[1;32m      7\u001B[0m \u001B[38;5;28;01melse\u001B[39;00m:\n\u001B[1;32m      8\u001B[0m     \u001B[38;5;28mprint\u001B[39m(\u001B[38;5;124m'\u001B[39m\u001B[38;5;124mНечётное\u001B[39m\u001B[38;5;124m'\u001B[39m)\n\u001B[0;32m---> 10\u001B[0m \u001B[38;5;28mprint\u001B[39m(\u001B[43mz\u001B[49m)\n",
      "\u001B[0;31mNameError\u001B[0m: name 'z' is not defined"
     ]
    }
   ],
   "source": [
    "x = int(input())\n",
    "\n",
    "if x % 2 == 0:\n",
    "    print('Чётное')\n",
    "    y = 1\n",
    "else:\n",
    "    print('Нечётное')\n",
    "    y = 2\n",
    "\n",
    "print(y)"
   ]
  },
  {
   "cell_type": "code",
   "execution_count": 8,
   "outputs": [
    {
     "data": {
      "text/plain": "'pank.su/cool_site'"
     },
     "execution_count": 8,
     "metadata": {},
     "output_type": "execute_result"
    }
   ],
   "source": [
    "URL = 'pank.su/'\n",
    "\n",
    "\n",
    "def get_url(path):\n",
    "    return URL + path\n",
    "\n",
    "\n",
    "get_url('cool_site')"
   ],
   "metadata": {
    "collapsed": false,
    "ExecuteTime": {
     "end_time": "2023-08-22T17:45:57.483908249Z",
     "start_time": "2023-08-22T17:45:57.439134947Z"
    }
   },
   "id": "d578649f98c7986a"
  },
  {
   "cell_type": "code",
   "execution_count": 10,
   "outputs": [
    {
     "name": "stdout",
     "output_type": "stream",
     "text": [
      "Напиши мне привет\n",
      "1\n"
     ]
    }
   ],
   "source": [
    "is_privet = False\n",
    "\n",
    "\n",
    "def change_privet():\n",
    "    global is_privet  # Возьми из глобального поля\n",
    "    is_privet = True\n",
    "\n",
    "\n",
    "x = 1\n",
    "\n",
    "while not is_privet:\n",
    "    msg = input()\n",
    "    \n",
    "    if msg == 'Привет':\n",
    "        change_privet()\n",
    "\n",
    "    else:\n",
    "        print('Напиши мне \"Привет\"')\n",
    "        print(x)\n",
    "        x += 1\n",
    "        "
   ],
   "metadata": {
    "collapsed": false,
    "ExecuteTime": {
     "end_time": "2023-08-22T17:46:47.676949381Z",
     "start_time": "2023-08-22T17:46:40.296624644Z"
    }
   },
   "id": "e02c807b5167ebb8"
  }
 ],
 "metadata": {
  "kernelspec": {
   "display_name": "Python 3",
   "language": "python",
   "name": "python3"
  },
  "language_info": {
   "codemirror_mode": {
    "name": "ipython",
    "version": 2
   },
   "file_extension": ".py",
   "mimetype": "text/x-python",
   "name": "python",
   "nbconvert_exporter": "python",
   "pygments_lexer": "ipython2",
   "version": "2.7.6"
  }
 },
 "nbformat": 4,
 "nbformat_minor": 5
}
