{
 "cells": [
  {
   "cell_type": "markdown",
   "id": "56fee875f6b9960e",
   "metadata": {
    "collapsed": false,
    "jupyter": {
     "outputs_hidden": false
    }
   },
   "source": [
    "# Функции"
   ]
  },
  {
   "cell_type": "code",
   "execution_count": 1,
   "id": "e520e84a3249576c",
   "metadata": {
    "ExecuteTime": {
     "end_time": "2023-08-08T08:38:27.596857158Z",
     "start_time": "2023-08-08T08:38:27.553836406Z"
    },
    "collapsed": false,
    "jupyter": {
     "outputs_hidden": false
    }
   },
   "outputs": [],
   "source": [
    "def f(x):\n",
    "    return x ** 2"
   ]
  },
  {
   "cell_type": "markdown",
   "id": "b48245d30535cf22",
   "metadata": {
    "collapsed": false,
    "jupyter": {
     "outputs_hidden": false
    }
   },
   "source": [
    "Если представить эту функцию в математическом виде, то получится $ f(x) = x ^ 2 $. Как и у математических функций, в питоне есть аргумент и тело функции. Что в функции выше является аргументом, а что телом?"
   ]
  },
  {
   "cell_type": "code",
   "execution_count": 2,
   "id": "4702fadaf8116de0",
   "metadata": {
    "ExecuteTime": {
     "end_time": "2023-08-08T08:43:05.108982941Z",
     "start_time": "2023-08-08T08:43:05.103016016Z"
    },
    "collapsed": false,
    "jupyter": {
     "outputs_hidden": false
    }
   },
   "outputs": [
    {
     "data": {
      "text/plain": [
       "9"
      ]
     },
     "execution_count": 2,
     "metadata": {},
     "output_type": "execute_result"
    }
   ],
   "source": [
    "f(3)"
   ]
  },
  {
   "cell_type": "markdown",
   "id": "8864f8c1ad024c28",
   "metadata": {
    "collapsed": false,
    "jupyter": {
     "outputs_hidden": false
    }
   },
   "source": [
    "Для того чтобы выполнить функцию, просто надо вписать аргументы, для того, чтобы понять является ли данный объект функцией можно просто посмотреть на скобочки.\n"
   ]
  },
  {
   "cell_type": "code",
   "execution_count": 4,
   "id": "b4ea9aa23f1e0c57",
   "metadata": {
    "ExecuteTime": {
     "end_time": "2023-08-08T08:45:47.116956317Z",
     "start_time": "2023-08-08T08:45:47.108075365Z"
    },
    "collapsed": false,
    "jupyter": {
     "outputs_hidden": false
    }
   },
   "outputs": [
    {
     "data": {
      "text/plain": [
       "<function __main__.f(x)>"
      ]
     },
     "execution_count": 4,
     "metadata": {},
     "output_type": "execute_result"
    }
   ],
   "source": [
    "f"
   ]
  },
  {
   "cell_type": "markdown",
   "id": "5b07bf423539e97e",
   "metadata": {
    "collapsed": false,
    "jupyter": {
     "outputs_hidden": false
    }
   },
   "source": [
    "Мы можем указывать функцию без аргументов и скобочек, тогда мы передаём на неё ссылку."
   ]
  },
  {
   "cell_type": "code",
   "execution_count": 5,
   "id": "8db967d6f25b3b9",
   "metadata": {
    "ExecuteTime": {
     "end_time": "2023-08-08T08:48:34.796206846Z",
     "start_time": "2023-08-08T08:48:34.750889905Z"
    },
    "collapsed": false,
    "jupyter": {
     "outputs_hidden": false
    }
   },
   "outputs": [
    {
     "data": {
      "text/plain": [
       "100"
      ]
     },
     "execution_count": 5,
     "metadata": {},
     "output_type": "execute_result"
    }
   ],
   "source": [
    "my_f = f\n",
    "my_f(10)"
   ]
  },
  {
   "cell_type": "markdown",
   "id": "9e68ec11a7ddac01",
   "metadata": {
    "collapsed": false,
    "jupyter": {
     "outputs_hidden": false
    }
   },
   "source": [
    "Перейдём к более интересному. К аргументам.\n",
    "\n",
    "Несколько аргументов"
   ]
  },
  {
   "cell_type": "code",
   "execution_count": 7,
   "id": "60c0f187d2a528e3",
   "metadata": {
    "ExecuteTime": {
     "end_time": "2023-08-08T15:24:55.106931553Z",
     "start_time": "2023-08-08T15:24:55.098373204Z"
    },
    "collapsed": false,
    "jupyter": {
     "outputs_hidden": false
    }
   },
   "outputs": [
    {
     "ename": "ZeroDivisionError",
     "evalue": "division by zero",
     "output_type": "error",
     "traceback": [
      "\u001b[0;31m---------------------------------------------------------------------------\u001b[0m",
      "\u001b[0;31mZeroDivisionError\u001b[0m                         Traceback (most recent call last)",
      "Cell \u001b[0;32mIn[7], line 4\u001b[0m\n\u001b[1;32m      1\u001b[0m \u001b[38;5;28;01mdef\u001b[39;00m \u001b[38;5;21msum_\u001b[39m(a, b, c \u001b[38;5;241m=\u001b[39m \u001b[38;5;241m0\u001b[39m): \u001b[38;5;66;03m# сначала формируются параметры, которые надо вставлять, потом ,по умолчанию,\u001b[39;00m\n\u001b[1;32m      2\u001b[0m     \u001b[38;5;28;01mreturn\u001b[39;00m a \u001b[38;5;241m/\u001b[39m b\n\u001b[0;32m----> 4\u001b[0m \u001b[43msum_\u001b[49m\u001b[43m(\u001b[49m\u001b[43mb\u001b[49m\u001b[43m \u001b[49m\u001b[38;5;241;43m=\u001b[39;49m\u001b[43m \u001b[49m\u001b[38;5;241;43m0\u001b[39;49m\u001b[43m,\u001b[49m\u001b[43m \u001b[49m\u001b[43ma\u001b[49m\u001b[43m \u001b[49m\u001b[38;5;241;43m=\u001b[39;49m\u001b[43m \u001b[49m\u001b[38;5;241;43m1\u001b[39;49m\u001b[43m)\u001b[49m \u001b[38;5;66;03m# можно в разном в порядке писать аргументы\u001b[39;00m\n",
      "Cell \u001b[0;32mIn[7], line 2\u001b[0m, in \u001b[0;36msum_\u001b[0;34m(a, b, c)\u001b[0m\n\u001b[1;32m      1\u001b[0m \u001b[38;5;28;01mdef\u001b[39;00m \u001b[38;5;21msum_\u001b[39m(a, b, c \u001b[38;5;241m=\u001b[39m \u001b[38;5;241m0\u001b[39m): \u001b[38;5;66;03m# сначала формируются параметры, которые надо вставлять, потом ,по умолчанию,\u001b[39;00m\n\u001b[0;32m----> 2\u001b[0m     \u001b[38;5;28;01mreturn\u001b[39;00m \u001b[43ma\u001b[49m\u001b[43m \u001b[49m\u001b[38;5;241;43m/\u001b[39;49m\u001b[43m \u001b[49m\u001b[43mb\u001b[49m\n",
      "\u001b[0;31mZeroDivisionError\u001b[0m: division by zero"
     ]
    }
   ],
   "source": [
    "def sum_(a, b, c = 0): # сначала формируются параметры, которые надо вставлять, потом ,по умолчанию,\n",
    "    return a / b\n",
    "\n",
    "sum_(b = 0, a = 1) # можно в разном в порядке писать аргументы"
   ]
  },
  {
   "cell_type": "markdown",
   "id": "1cf33181a160ffa7",
   "metadata": {
    "collapsed": false,
    "jupyter": {
     "outputs_hidden": false
    }
   },
   "source": [
    "По умолчанию"
   ]
  },
  {
   "cell_type": "code",
   "execution_count": 2,
   "id": "d74fc6c278161d84",
   "metadata": {
    "ExecuteTime": {
     "end_time": "2023-08-08T08:52:56.160666716Z",
     "start_time": "2023-08-08T08:52:56.148234992Z"
    },
    "collapsed": false,
    "jupyter": {
     "outputs_hidden": false
    }
   },
   "outputs": [
    {
     "name": "stdout",
     "output_type": "stream",
     "text": [
      "Hello Vasya\n",
      "Hello Petya\n",
      "Hello Vasya\n",
      "ok\n"
     ]
    }
   ],
   "source": [
    "def hello(name='empty'):# return не нужен, тк мы ничего не считаем\n",
    "    print(f'Hello {name}')\n",
    "\n",
    "\n",
    "hello('Vasya')\n",
    "hello(name='Petya')\n",
    "print(hello('Vasya'))"
   ]
  },
  {
   "cell_type": "markdown",
   "id": "cb50a9a2f2c510a6",
   "metadata": {
    "collapsed": false,
    "jupyter": {
     "outputs_hidden": false
    }
   },
   "source": [
    "Множество аргументов\n"
   ]
  },
  {
   "cell_type": "code",
   "execution_count": 4,
   "id": "8bb1e2985144815",
   "metadata": {
    "ExecuteTime": {
     "end_time": "2023-08-08T15:27:15.116430333Z",
     "start_time": "2023-08-08T15:27:15.074407030Z"
    },
    "collapsed": false,
    "jupyter": {
     "outputs_hidden": false
    }
   },
   "outputs": [
    {
     "data": {
      "text/plain": [
       "6"
      ]
     },
     "execution_count": 4,
     "metadata": {},
     "output_type": "execute_result"
    }
   ],
   "source": [
    "def sum_all(*args): # бесконечное количество аргументов\n",
    "    sum_ = 0\n",
    "    for el in args:\n",
    "        sum_ += el\n",
    "    return sum_\n",
    "\n",
    "sum_all(1, 2, 3)"
   ]
  },
  {
   "cell_type": "code",
   "execution_count": 10,
   "id": "7384111a0bd3c0c5",
   "metadata": {
    "ExecuteTime": {
     "end_time": "2023-08-08T15:45:39.469126172Z",
     "start_time": "2023-08-08T15:45:39.427087702Z"
    },
    "collapsed": false,
    "jupyter": {
     "outputs_hidden": false
    }
   },
   "outputs": [
    {
     "name": "stdout",
     "output_type": "stream",
     "text": [
      "{'квас': 10, 'лимонад': 5}\n",
      "квас 10 шт.\n",
      "лимонад 5 шт.\n"
     ]
    }
   ],
   "source": [
    "def recept(**jopa): \n",
    "    for picka, popka in jopa.items():\n",
    "        print(f'{picka} {popka} шт.')\n",
    "\n",
    "recept(квас=10, лимонад=5)"
   ]
  },
  {
   "cell_type": "code",
   "execution_count": 6,
   "id": "cbfce58f-4010-419a-bfa6-f5becafaaebe",
   "metadata": {},
   "outputs": [
    {
     "name": "stdout",
     "output_type": "stream",
     "text": [
      "niza\n"
     ]
    }
   ],
   "source": [
    "def delenie(a,b):\n",
    "    if b == 0:\n",
    "        print('niza')\n",
    "        return # полностью завершает функцию\n",
    "    return(a/b)\n",
    "delenie(3,0)"
   ]
  },
  {
   "cell_type": "markdown",
   "id": "f5cbc8b6-96bc-4651-a51d-fa605bccb82e",
   "metadata": {},
   "source": [
    "вася и арьуз\n"
   ]
  },
  {
   "cell_type": "code",
   "execution_count": 7,
   "id": "331358a1-8865-4752-8ea5-1c43700b2f16",
   "metadata": {},
   "outputs": [
    {
     "name": "stdin",
     "output_type": "stream",
     "text": [
      " 33\n"
     ]
    },
    {
     "name": "stdout",
     "output_type": "stream",
     "text": [
      "NO\n"
     ]
    }
   ],
   "source": [
    "a= int(input())\n",
    "if a == 2 or a%2==1:\n",
    "    print('NO')\n",
    "else:\n",
    "    print('YES')"
   ]
  },
  {
   "cell_type": "code",
   "execution_count": null,
   "id": "d4b04b84-bbaf-4c64-9ee1-bf58a08f22ab",
   "metadata": {},
   "outputs": [],
   "source": []
  }
 ],
 "metadata": {
  "kernelspec": {
   "display_name": "Python 3 (ipykernel)",
   "language": "python",
   "name": "python3"
  },
  "language_info": {
   "codemirror_mode": {
    "name": "ipython",
    "version": 3
   },
   "file_extension": ".py",
   "mimetype": "text/x-python",
   "name": "python",
   "nbconvert_exporter": "python",
   "pygments_lexer": "ipython3",
   "version": "3.9.17"
  }
 },
 "nbformat": 4,
 "nbformat_minor": 5
}
