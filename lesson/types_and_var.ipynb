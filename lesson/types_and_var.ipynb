{
 "cells": [
  {
   "cell_type": "code",
   "execution_count": 14,
   "id": "initial_id",
   "metadata": {
    "collapsed": true,
    "ExecuteTime": {
     "end_time": "2023-08-04T07:49:09.508924952Z",
     "start_time": "2023-08-04T07:49:09.461822848Z"
    }
   },
   "outputs": [
    {
     "name": "stdout",
     "output_type": "stream",
     "text": [
      "{1, 2}\n"
     ]
    }
   ],
   "source": [
    "print({1, 1, 2}) # Множество = set"
   ]
  },
  {
   "cell_type": "markdown",
   "source": [
    "Словарь"
   ],
   "metadata": {
    "collapsed": false
   },
   "id": "cc9516fbbcba25d7"
  },
  {
   "cell_type": "code",
   "execution_count": 15,
   "outputs": [
    {
     "name": "stdout",
     "output_type": "stream",
     "text": [
      "{1: 2}\n"
     ]
    }
   ],
   "source": [
    "print({1: 2}) "
   ],
   "metadata": {
    "collapsed": false,
    "ExecuteTime": {
     "end_time": "2023-08-04T07:50:17.718817750Z",
     "start_time": "2023-08-04T07:50:17.677041761Z"
    }
   },
   "id": "98e1a99b263a738"
  },
  {
   "cell_type": "code",
   "execution_count": 19,
   "outputs": [],
   "source": [
    "None"
   ],
   "metadata": {
    "collapsed": false,
    "ExecuteTime": {
     "end_time": "2023-08-04T07:51:25.320957329Z",
     "start_time": "2023-08-04T07:51:25.314682727Z"
    }
   },
   "id": "563aeb221656412f"
  },
  {
   "cell_type": "markdown",
   "source": [
    "Разделитель"
   ],
   "metadata": {
    "collapsed": false
   },
   "id": "80e47c1ea51aab07"
  },
  {
   "cell_type": "code",
   "execution_count": 21,
   "outputs": [
    {
     "name": "stdout",
     "output_type": "stream",
     "text": [
      "1m2m3\n"
     ]
    }
   ],
   "source": [
    "print(1, 2, 3, sep='m')"
   ],
   "metadata": {
    "collapsed": false,
    "ExecuteTime": {
     "end_time": "2023-08-04T07:55:24.892252465Z",
     "start_time": "2023-08-04T07:55:24.850990969Z"
    }
   },
   "id": "4e333fe53a7b273b"
  },
  {
   "cell_type": "code",
   "execution_count": 22,
   "outputs": [
    {
     "name": "stdout",
     "output_type": "stream",
     "text": [
      "12\n"
     ]
    }
   ],
   "source": [
    "print(1, end='')\n",
    "print(2)"
   ],
   "metadata": {
    "collapsed": false,
    "ExecuteTime": {
     "end_time": "2023-08-04T07:57:17.245559712Z",
     "start_time": "2023-08-04T07:57:17.202898427Z"
    }
   },
   "id": "c0b13d8b834c826b"
  },
  {
   "cell_type": "markdown",
   "source": [],
   "metadata": {
    "collapsed": false
   },
   "id": "eb34efbc1821d0af"
  },
  {
   "cell_type": "code",
   "execution_count": 23,
   "outputs": [
    {
     "name": "stdout",
     "output_type": "stream",
     "text": [
      "1\t2\n"
     ]
    }
   ],
   "source": [
    "print(1, end=\"\\t\")\n",
    "print(2)"
   ],
   "metadata": {
    "collapsed": false,
    "ExecuteTime": {
     "end_time": "2023-08-04T07:57:19.173767699Z",
     "start_time": "2023-08-04T07:57:19.170152335Z"
    }
   },
   "id": "5f3020f7692bb584"
  },
  {
   "cell_type": "markdown",
   "source": [
    "Запись в файл"
   ],
   "metadata": {
    "collapsed": false
   },
   "id": "539c5487b2cb12a9"
  },
  {
   "cell_type": "code",
   "execution_count": 24,
   "outputs": [],
   "source": [
    "print(1, file=open('test', 'w'))"
   ],
   "metadata": {
    "collapsed": false,
    "ExecuteTime": {
     "end_time": "2023-08-04T07:58:14.391949780Z",
     "start_time": "2023-08-04T07:58:14.349263875Z"
    }
   },
   "id": "aef660bc6cb47d33"
  },
  {
   "cell_type": "code",
   "execution_count": 25,
   "outputs": [
    {
     "data": {
      "text/plain": "'Хорошо'"
     },
     "execution_count": 25,
     "metadata": {},
     "output_type": "execute_result"
    }
   ],
   "source": [
    "input(\"Как у вас дела?\")"
   ],
   "metadata": {
    "collapsed": false,
    "ExecuteTime": {
     "end_time": "2023-08-04T08:01:27.490666850Z",
     "start_time": "2023-08-04T08:01:17.836939625Z"
    }
   },
   "id": "841a4f142f4505b4"
  },
  {
   "cell_type": "code",
   "execution_count": 25,
   "outputs": [],
   "source": [
    "otvet = input(\"Как у вас дела?\")\n",
    "print(\"У меня тоже \" + otvet )\n",
    "\n",
    "print(\"У меня тоже\", otvet)\n",
    "\n",
    "print(f\"У меня тоже {otvet.lower()}\") # Форматированный вывод, можно только вставлять\n"
   ],
   "metadata": {
    "collapsed": false,
    "ExecuteTime": {
     "end_time": "2023-08-04T08:08:22.481966180Z",
     "start_time": "2023-08-04T08:08:22.479153642Z"
    }
   },
   "id": "7b106206143e0cd"
  },
  {
   "cell_type": "markdown",
   "source": [
    "# УСЛОВИЯ В ПИТОНЕ"
   ],
   "metadata": {
    "collapsed": false
   },
   "id": "c0c372f4a536b435"
  },
  {
   "cell_type": "code",
   "execution_count": 30,
   "outputs": [
    {
     "name": "stdout",
     "output_type": "stream",
     "text": [
      "x not equal zero\n"
     ]
    }
   ],
   "source": [
    "x = \"\"\n",
    "\n",
    "if x == 0:\n",
    "    print(\"x equal zero\")\n",
    "else:\n",
    "    print(\"x not equal zero\")\n"
   ],
   "metadata": {
    "collapsed": false,
    "ExecuteTime": {
     "end_time": "2023-08-04T08:11:39.015845707Z",
     "start_time": "2023-08-04T08:11:39.013341738Z"
    }
   },
   "id": "9e5fb3b911352a02"
  }
 ],
 "metadata": {
  "kernelspec": {
   "display_name": "Python 3",
   "language": "python",
   "name": "python3"
  },
  "language_info": {
   "codemirror_mode": {
    "name": "ipython",
    "version": 2
   },
   "file_extension": ".py",
   "mimetype": "text/x-python",
   "name": "python",
   "nbconvert_exporter": "python",
   "pygments_lexer": "ipython2",
   "version": "2.7.6"
  }
 },
 "nbformat": 4,
 "nbformat_minor": 5
}
