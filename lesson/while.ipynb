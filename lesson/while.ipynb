{
 "cells": [
  {
   "cell_type": "code",
   "execution_count": 2,
   "id": "initial_id",
   "metadata": {
    "collapsed": true,
    "ExecuteTime": {
     "end_time": "2023-08-24T16:12:48.329197079Z",
     "start_time": "2023-08-24T16:12:48.325024207Z"
    }
   },
   "outputs": [
    {
     "name": "stdout",
     "output_type": "stream",
     "text": [
      "Это выполняется бесконечно\n"
     ]
    }
   ],
   "source": [
    "while False:\n",
    "    print(\"Это не выполнится\")\n",
    "\n",
    "while True:\n",
    "    print(\"Это выполняется бесконечно\")\n",
    "    break"
   ]
  },
  {
   "cell_type": "code",
   "execution_count": 3,
   "outputs": [
    {
     "name": "stdout",
     "output_type": "stream",
     "text": [
      "1\n",
      "2\n",
      "3\n",
      "4\n",
      "5\n",
      "6\n",
      "7\n",
      "8\n",
      "9\n"
     ]
    }
   ],
   "source": [
    "i = 1\n",
    "\n",
    "while i < 10:\n",
    "    print(i)\n",
    "    i += 1\n",
    "    \n"
   ],
   "metadata": {
    "collapsed": false,
    "ExecuteTime": {
     "end_time": "2023-08-24T16:13:40.306061093Z",
     "start_time": "2023-08-24T16:13:40.301533573Z"
    }
   },
   "id": "84109acbe474c1c9"
  },
  {
   "cell_type": "code",
   "execution_count": 6,
   "outputs": [
    {
     "name": "stdout",
     "output_type": "stream",
     "text": [
      "75\n"
     ]
    }
   ],
   "source": [
    "sum_ = 0\n",
    "user_input = int(input())\n",
    "\n",
    "while user_input != -1:\n",
    "    sum_ += user_input\n",
    "    user_input =  int(input())\n",
    "    \n",
    "print(sum_)"
   ],
   "metadata": {
    "collapsed": false,
    "ExecuteTime": {
     "end_time": "2023-08-24T16:18:32.604774402Z",
     "start_time": "2023-08-24T16:18:23.884434178Z"
    }
   },
   "id": "5bd988b184c48321"
  }
 ],
 "metadata": {
  "kernelspec": {
   "display_name": "Python 3",
   "language": "python",
   "name": "python3"
  },
  "language_info": {
   "codemirror_mode": {
    "name": "ipython",
    "version": 2
   },
   "file_extension": ".py",
   "mimetype": "text/x-python",
   "name": "python",
   "nbconvert_exporter": "python",
   "pygments_lexer": "ipython2",
   "version": "2.7.6"
  }
 },
 "nbformat": 4,
 "nbformat_minor": 5
}
