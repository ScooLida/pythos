{
 "cells": [
  {
   "cell_type": "code",
   "execution_count": 7,
   "id": "ce4c0553",
   "metadata": {},
   "outputs": [],
   "source": [
    "massiv = [1, 4, 81, 1010, 10, 1, 2]"
   ]
  },
  {
   "cell_type": "code",
   "execution_count": 11,
   "id": "b8544ae3",
   "metadata": {},
   "outputs": [
    {
     "name": "stdout",
     "output_type": "stream",
     "text": [
      "0\n"
     ]
    }
   ],
   "source": [
    "a = massiv[0]\n",
    "for n in massiv:\n",
    "    if n <= a:\n",
    "        a = n\n",
    "    elif n > a:\n",
    "        pass\n",
    "print(a)\n",
    "        "
   ]
  },
  {
   "cell_type": "code",
   "execution_count": null,
   "id": "07d32c49",
   "metadata": {},
   "outputs": [],
   "source": []
  }
 ],
 "metadata": {
  "kernelspec": {
   "display_name": "Python 3",
   "language": "python",
   "name": "python3"
  },
  "language_info": {
   "codemirror_mode": {
    "name": "ipython",
    "version": 3
   },
   "file_extension": ".py",
   "mimetype": "text/x-python",
   "name": "python",
   "nbconvert_exporter": "python",
   "pygments_lexer": "ipython3",
   "version": "3.9.11"
  }
 },
 "nbformat": 4,
 "nbformat_minor": 5
}
